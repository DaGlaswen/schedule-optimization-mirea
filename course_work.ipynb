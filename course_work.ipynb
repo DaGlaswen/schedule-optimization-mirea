{
 "cells": [
  {
   "cell_type": "code",
   "execution_count": null,
   "id": "initial_id",
   "metadata": {
    "collapsed": true
   },
   "outputs": [],
   "source": [
    "from datetime import time\n",
    "import pathlib\n",
    "\n",
    "from algorithm.IslandFFS import IslandFSS\n",
    "from model.Configuration import Configuration\n",
    "from model.Schedule import Schedule"
   ]
  },
  {
   "metadata": {
    "ExecuteTime": {
     "end_time": "2024-09-08T19:05:10.814795Z",
     "start_time": "2024-09-08T19:05:10.806510Z"
    }
   },
   "cell_type": "code",
   "source": [
    "file_name = \"/GaSchedule.json\"\n",
    "start_time = int(round(time.time() * 1000))\n",
    "\n",
    "configuration = Configuration.Configuration()\n",
    "target_file = str(pathlib.Path().absolute()) + file_name\n",
    "configuration.parseFile(target_file)\n",
    "\n",
    "init_schedule = Schedule(configuration)\n",
    "FSS_base_one_island = IslandFSS(init_schedule, 1)\n",
    "FSS_base_one_island.optimize()"
   ],
   "id": "577bd3681413e31e",
   "outputs": [
    {
     "ename": "IndentationError",
     "evalue": "unexpected indent (569088020.py, line 2)",
     "output_type": "error",
     "traceback": [
      "\u001B[0;36m  Cell \u001B[0;32mIn[1], line 2\u001B[0;36m\u001B[0m\n\u001B[0;31m    start_time = int(round(time.time() * 1000))\u001B[0m\n\u001B[0m    ^\u001B[0m\n\u001B[0;31mIndentationError\u001B[0m\u001B[0;31m:\u001B[0m unexpected indent\n"
     ]
    }
   ],
   "execution_count": 1
  },
  {
   "metadata": {},
   "cell_type": "code",
   "outputs": [],
   "execution_count": null,
   "source": "",
   "id": "cc7205163cb16c96"
  }
 ],
 "metadata": {
  "kernelspec": {
   "display_name": "Python 3",
   "language": "python",
   "name": "python3"
  },
  "language_info": {
   "codemirror_mode": {
    "name": "ipython",
    "version": 2
   },
   "file_extension": ".py",
   "mimetype": "text/x-python",
   "name": "python",
   "nbconvert_exporter": "python",
   "pygments_lexer": "ipython2",
   "version": "2.7.6"
  }
 },
 "nbformat": 4,
 "nbformat_minor": 5
}
